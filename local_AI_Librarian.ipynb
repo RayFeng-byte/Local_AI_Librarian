{
 "cells": [
  {
   "cell_type": "markdown",
   "metadata": {},
   "source": [
    "Install Dependencies"
   ]
  },
  {
   "cell_type": "code",
   "execution_count": null,
   "metadata": {
    "vscode": {
     "languageId": "plaintext"
    }
   },
   "outputs": [],
   "source": [
    "pip install -q \\\n",
    "  llama-index \\\n",
    "  EbookLib \\\n",
    "  html2text \\\n",
    "  gradio \\\n",
    "  llama-index-embeddings-huggingface \\\n",
    "  llama-index-llms-ollama"
   ]
  },
  {
   "cell_type": "markdown",
   "metadata": {},
   "source": [
    "Import Important Packages"
   ]
  },
  {
   "cell_type": "code",
   "execution_count": null,
   "metadata": {
    "vscode": {
     "languageId": "plaintext"
    }
   },
   "outputs": [],
   "source": [
    "# Import necessary libraries\n",
    "from llama_index.core import SimpleDirectoryReader, SentenceSplitter\n",
    "from llama_index.embeddings.huggingface import HuggingFaceEmbedding\n",
    "import os"
   ]
  },
  {
   "cell_type": "markdown",
   "metadata": {},
   "source": [
    "Document Processing"
   ]
  },
  {
   "cell_type": "code",
   "execution_count": null,
   "metadata": {
    "vscode": {
     "languageId": "plaintext"
    }
   },
   "outputs": [],
   "source": [
    "\n",
    "# Define Function to Process Documents\n",
    "def process_documents(file_paths):\n",
    "    reader = SimpleDirectoryReader(input_files=file_paths)\n",
    "    documents = reader.load_data()\n",
    "    text_splitter = SentenceSplitter(chunk_size=1024, chunk_overlap=200)\n",
    "    nodes = text_splitter.get_nodes_from_documents(documents, show_progress=True)\n",
    "    return nodes\n",
    "\n",
    "# Example File Paths\n",
    "file_paths = [\n",
    "    'path/to/local/sample1.pdf',\n",
    "    'path/to/local/sample2.epub'\n",
    "]\n",
    "\n",
    "# Process the Documents\n",
    "nodes = process_documents(file_paths)\n",
    "\n",
    "# Print the number of nodes and metadata of the first node\n",
    "print(f\"Number of nodes: {len(nodes)}\")\n",
    "print(f\"Metadata of the first node: {nodes[0].metadata}\")\n",
    "\n",
    "# Print the number of nodes and metadata of the first node\n",
    "print(f\"Number of nodes: {len(nodes)}\")\n",
    "print(f\"Metadata of the first node: {nodes[0].metadata}\")\n",
    "\n",
    "# Initialize the Embedding Model\n",
    "embed_model = HuggingFaceEmbedding(model_name=\"sentence-transformers/all-MiniLM-L6-v2\")\n",
    "\n",
    "# Further processing with the embeddings can be done here"
   ]
  }
 ],
 "metadata": {
  "language_info": {
   "name": "python"
  }
 },
 "nbformat": 4,
 "nbformat_minor": 2
}
